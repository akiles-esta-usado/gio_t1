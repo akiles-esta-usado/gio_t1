{
 "cells": [
  {
   "cell_type": "code",
   "execution_count": 1,
   "metadata": {},
   "outputs": [
    {
     "name": "stdout",
     "output_type": "stream",
     "text": [
      "hola\n"
     ]
    }
   ],
   "source": [
    "from tarea1.algoritmos import hola\n",
    "\n",
    "hola()"
   ]
  },
  {
   "cell_type": "code",
   "execution_count": 2,
   "metadata": {},
   "outputs": [],
   "source": [
    "import matplotlib.pyplot as plt\n",
    "import numpy as np\n",
    "\n",
    "# from matplotlib.pyplot import rcParams\n",
    "# %matplotlib inline\n",
    "# rcParams['font.family'] = 'serif'\n",
    "# rcParams['font.size'] = 16"
   ]
  },
  {
   "cell_type": "markdown",
   "metadata": {},
   "source": [
    "20:56 empieza a hablar de un ejercicio.\n",
    "\n",
    "Obtener las derivadas para el método de gradiente.\n",
    "Hay que armar el vector gradiente.\n",
    "\n",
    " \n",
    "Sympy: Programación simbólica. Ecuaciones como objetos, puede ser complicado.\n",
    "\n",
    "**Mejor hacer el gradiente a mano.**\n"
   ]
  },
  {
   "cell_type": "markdown",
   "metadata": {},
   "source": [
    "# Gradiente con Backtracking Line Search 24:50\n",
    "\n",
    "Alpha que es multiplicador de un compadre. Entre 0 y 0.5\n",
    "\n",
    "Beta que actualiza tiempos. Entre 0 y 1 sin tocarlos. \n",
    "\n",
    "¿Tiempos o Steps? Tiempos. Siempre se refiere de esa manera.\n",
    "\n",
    "Hay que crear una igualdad, se evalua. Siempre que se cumpla se actualiza el tiempo.\n",
    "\n",
    "Se parte con el punto inicial 0 0 0\n",
    "\n",
    "---\n",
    "Delta X es - grad F. (26:24 )\n",
    "\n",
    "\n",
    "Mientras no se cumpla la igualdad, se actualizará el punto inicial.\n",
    "P0: (0,0,0)\n"
   ]
  },
  {
   "cell_type": "markdown",
   "metadata": {},
   "source": [
    "## 28:43\n",
    "\n",
    "Hay dos ciclos aniddados\n",
    "\n",
    "1. Busqueda de la condición. La búsqueda del valor de t. T sub optimo para un sub problema\n",
    "2. Con ese t, se actualiza el punto.\n",
    "\n",
    "$$\n",
    "P^{k+1} = P^K +t \\nabla x\n",
    "$$"
   ]
  },
  {
   "cell_type": "markdown",
   "metadata": {},
   "source": [
    "\n",
    "## Criterio de parada\n",
    "Hay varias, el ayudante ocupa una en que la norma del vector gradiente sea aproximadamente 0.\n",
    "Osea, menor a un umbral.\n",
    "\n",
    "$$\n",
    "|| \\nabla f(x) || \\approx 0\n",
    "$$\n"
   ]
  },
  {
   "cell_type": "markdown",
   "metadata": {},
   "source": []
  },
  {
   "cell_type": "code",
   "execution_count": 3,
   "metadata": {},
   "outputs": [
    {
     "data": {
      "text/plain": [
       "array([[  4.58062375,   1.54336444],\n",
       "       [  0.53450891,   1.97000669],\n",
       "       [ -6.94808862,  -8.16881081],\n",
       "       [  0.07742529,  -2.2667546 ],\n",
       "       [  3.54775306,  11.28049471],\n",
       "       [ -5.41049051,  -2.06161132],\n",
       "       [ -4.40337447, -19.54941314],\n",
       "       [  4.99828234,  -8.60294317],\n",
       "       [ -4.53676177,  -0.56228438],\n",
       "       [ -1.18228584,   3.78232189]])"
      ]
     },
     "execution_count": 3,
     "metadata": {},
     "output_type": "execute_result"
    }
   ],
   "source": [
    "import random\n",
    "\n",
    "def pointGenerator():\n",
    "  return np.array([\n",
    "    random.uniform(-10, 10),\n",
    "    random.uniform(-20, 20),\n",
    "  ])\n",
    "\n",
    "def instanceGenerator():\n",
    "  return np.array([\n",
    "    pointGenerator() for sample in range(10)\n",
    "  ])\n",
    "\n",
    "instanceGenerator()"
   ]
  },
  {
   "cell_type": "code",
   "execution_count": 4,
   "metadata": {},
   "outputs": [],
   "source": [
    "def f(X):\n",
    "  x0 = X[0]\n",
    "  x1 = X[1]\n",
    "  x2 = X[2]\n",
    "  return np.exp( -x0 + 2*x1 ) + np.exp( 3*x2 - 2*x0 ) + x1**2\n",
    "\n",
    "\n",
    "def fd(X):\n",
    "  x0 = X[0]\n",
    "  x1 = X[1]\n",
    "  x2 = X[2]\n",
    "\n",
    "  return np.array([\n",
    "    -np.exp(-x0 + 2*x1) - 2*np.exp( 3*x2 -2*x0 ),\n",
    "    2*np.exp(-x0 + 2*x1) + 2*x1,\n",
    "    3*np.exp(3*x2 - 2*x0)\n",
    "  ])"
   ]
  },
  {
   "cell_type": "code",
   "execution_count": 5,
   "metadata": {},
   "outputs": [
    {
     "name": "stdout",
     "output_type": "stream",
     "text": [
      "0.0010009009786624175 1676\n"
     ]
    }
   ],
   "source": [
    "epsilon = 0.001\n",
    "alpha = 0.3\n",
    "beta = 0.6\n",
    "\n",
    "punto = np.array([0,0,0])\n",
    "\n",
    "k = 0\n",
    "t = 1\n",
    "\n",
    "f_optima = []\n",
    "\n",
    "while True:\n",
    "  while True:\n",
    "    LR = f(punto) + alpha*t * np.dot(np.transpose(fd(punto)), - fd(punto))\n",
    "    LL = f(punto - t*fd(punto))\n",
    "    t = t*beta\n",
    "\n",
    "    if LR>LL:\n",
    "      punto = punto - t*fd(punto)\n",
    "      t = 1\n",
    "      break\n",
    "  \n",
    "\n",
    "  if np.abs(np.linalg.norm(fd(punto))) <= epsilon:\n",
    "    break\n",
    "\n",
    "  f_optima.append(f(punto))\n",
    "  k = k+1\n",
    "\n",
    "print(f(punto), k)"
   ]
  },
  {
   "cell_type": "code",
   "execution_count": 6,
   "metadata": {},
   "outputs": [
    {
     "data": {
      "text/plain": [
       "<matplotlib.legend.Legend at 0x1f335249ee0>"
      ]
     },
     "execution_count": 6,
     "metadata": {},
     "output_type": "execute_result"
    },
    {
     "data": {
      "image/png": "[encoded data removed]",
      "text/plain": [
       "<Figure size 800x500 with 1 Axes>"
      ]
     },
     "metadata": {},
     "output_type": "display_data"
    }
   ],
   "source": [
    "fig, (ax1) = plt.subplots(nrows=1, figsize=(8,5))\n",
    "\n",
    "time=0\n",
    "label= rf'$\\alpha = {alpha}$, $\\beta = {beta}$, time$= {time}$'\n",
    "\n",
    "ax1.scatter(range(k), f_optima, s=0.7, label=label)\n",
    "ax1.set_xlabel(\"Número de iteraciones\")\n",
    "ax1.set_ylabel(\"Valor de FO en iteración $k$\")\n",
    "ax1.set_title(\"Convergencia del método\")\n",
    "ax1.legend(loc=\"best\")\n"
   ]
  },
  {
   "cell_type": "code",
   "execution_count": null,
   "metadata": {},
   "outputs": [],
   "source": []
  }
 ],
 "metadata": {
  "kernelspec": {
   "display_name": "Python 3.9.13 ('ILN250_PV_AV_T1')",
   "language": "python",
   "name": "python3"
  },
  "language_info": {
   "codemirror_mode": {
    "name": "ipython",
    "version": 3
   },
   "file_extension": ".py",
   "mimetype": "text/x-python",
   "name": "python",
   "nbconvert_exporter": "python",
   "pygments_lexer": "ipython3",
   "version": "3.9.13"
  },
  "orig_nbformat": 4,
  "vscode": {
   "interpreter": {
    "hash": "c066d0364de86d471b12b00c49c7831c2a34d591482c833a12f0da5038a80909"
   }
  }
 },
 "nbformat": 4,
 "nbformat_minor": 2
}
